{
 "cells": [
  {
   "cell_type": "markdown",
   "id": "56a02b72",
   "metadata": {},
   "source": [
    "### Task 1 - Create data set "
   ]
  },
  {
   "cell_type": "code",
   "execution_count": 1,
   "id": "a8c6f33d",
   "metadata": {},
   "outputs": [
    {
     "name": "stdout",
     "output_type": "stream",
     "text": [
      "10001\n",
      "(10001,)\n"
     ]
    }
   ],
   "source": [
    "import numpy as np\n",
    "from scipy.integrate import solve_ivp\n",
    "\n",
    "# Define the Lorenz system\n",
    "def lorenz(t, xyz, sigma, r, b):\n",
    "    x, y, z = xyz\n",
    "    dxdt = -sigma*x + sigma*y\n",
    "    dydt = -x*z + r*x - y\n",
    "    dzdt = x*y - b*z\n",
    "    return [dxdt, dydt, dzdt]\n",
    "\n",
    "# Set the parameters\n",
    "sigma = 10\n",
    "r = 28\n",
    "b = 8/3\n",
    "\n",
    "# Set the initial conditions and time span\n",
    "t0, tf = 0, 100\n",
    "x0 = [1, 1, 1]\n",
    "t_span = [t0, tf]\n",
    "\n",
    "# Define the time step and the number of steps\n",
    "dt = 0.01\n",
    "t_steps = int((tf - t0) / dt) + 1\n",
    "\n",
    "# Solve the system using the fourth-order Runge-Kutta method\n",
    "sol = solve_ivp(lorenz, t_span, x0, t_eval=np.linspace(t0, tf, t_steps), args=(sigma, r, b))\n",
    "\n",
    "Y = sol.y\n",
    "nComp = np.shape(Y[1])\n",
    "print(np.shape(Y)[1])\n",
    "print(nComp)\n"
   ]
  },
  {
   "cell_type": "markdown",
   "id": "f1ad6e12",
   "metadata": {},
   "source": [
    "### Task 2"
   ]
  },
  {
   "cell_type": "code",
   "execution_count": 56,
   "id": "95ba14d5",
   "metadata": {},
   "outputs": [],
   "source": [
    "class Reservoir:\n",
    "    def __init__(self, input_size, nReservoirNeurons, sigma, Y):\n",
    "        self.n = input_size\n",
    "        self.N = nReservoirNeurons\n",
    "        self.sigma = sigma\n",
    "        self.Y = Y\n",
    "        self.T = Y.shape[1]\n",
    "        self.w_in = np.random.normal(loc=0, scale=np.sqrt(1/self.N), size=(self.N, self.n))\n",
    "        self.w_reserv = self.get_reservoir_weights()\n",
    "        \n",
    "    def get_reservoir_weights(self):\n",
    "        sparsity = 0.3\n",
    "        dense_w = np.random.normal(loc=0, scale=np.sqrt(self.sigma), size=(self.N, self.N))\n",
    "        frac = int(self.N*self.N*sparsity)\n",
    "        indices = np.random.choice(self.N*self.N, frac, replace=False)\n",
    "        \n",
    "        row_indices = indices // self.N  # convert 1D indices to 2D row indices\n",
    "        col_indices = indices % self.N   # convert 1D indices to 2D column indices\n",
    "        sparse_w = np.zeros((self.N, self.N))\n",
    "        \n",
    "        sparse_w[row_indices, col_indices] = dense_w[row_indices, col_indices]\n",
    "        return sparse_w\n",
    "        \n",
    "    def g(self, local_field):\n",
    "        return np.tanh(local_field)\n",
    "    \n",
    "    \n",
    "    def compute_reservoir_states(self):\n",
    "        r = np.zeros(self.N)\n",
    "        R = np.zeros((self.N, self.T))\n",
    "        \n",
    "        for t in range(self.T-1):\n",
    "            reservoir_field = np.dot(self.w_reserv, r)\n",
    "            input_field = np.dot(self.w_in, self.Y[:,t])\n",
    "            r = self.g(reservoir_field + input_field)\n",
    "            R[:, t] = r\n",
    "            \n",
    "        ridge = 0.01\n",
    "        I = np.identity(self.N)\n",
    "        self.w_out = np.dot(np.dot(self.Y, R.T), np.linalg.inv(np.dot(R, R.T) + ridge * I))\n",
    "        \n",
    "    def predict(self, x0):\n",
    "        x = x0\n",
    "        r = np.zeros(self.N)\n",
    "        y = np.zeros((self.n, self.T))\n",
    "        y[:,0] = x0\n",
    "        for t in range(self.T-1):\n",
    "            reservoir_field = np.dot(self.w_reserv, r)\n",
    "            input_field = np.dot(self.w_in, x)\n",
    "            r = self.g(reservoir_field + input_field.reshape(self.N))\n",
    "            y[:, t+1] = np.dot(self.w_out, r)\n",
    "            x = y[:, t+1]\n",
    "        return y"
   ]
  },
  {
   "cell_type": "code",
   "execution_count": 57,
   "id": "c29d596e",
   "metadata": {},
   "outputs": [],
   "source": [
    "#Parameters\n",
    "nReservoirNeurons = 1000\n",
    "sigma = 0.2\n",
    "\n",
    "# Create the reservoir object and compute the reservoir states\n",
    "reservoir_3D = Reservoir(3, nReservoirNeurons, sigma, Y)\n",
    "reservoir_3D.compute_reservoir_states()\n",
    "\n",
    "# Compute the predicted time series and evaluate the performance\n",
    "x0_3D = Y[:,0]\n",
    "pred_3D = reservoir_3D.predict(x0)\n",
    "mse_3D = np.mean((Y-pred_3D)**2)\n",
    "\n",
    "# Create the input time series for the single variable case\n",
    "temp = Y[1,:]\n",
    "x2 = temp.reshape((1, Y.shape[1]))\n",
    "\n",
    "# Create the reservoir object and compute the reservoir states\n",
    "reservoir_1D = Reservoir(1, nReservoirNeurons, sigma, x2)\n",
    "reservoir_1D.compute_reservoir_states()\n",
    "\n",
    "# Compute the predicted time series and evaluate the performance\n",
    "x0_1D = x2[:, 0]\n",
    "pred_1D = reservoir_1D.predict(x0_1D)\n",
    "mse_1D = np.mean((x2 - pred_1D.squeeze())**2)\n"
   ]
  },
  {
   "cell_type": "code",
   "execution_count": 61,
   "id": "8f9ed214",
   "metadata": {},
   "outputs": [
    {
     "name": "stderr",
     "output_type": "stream",
     "text": [
      "100%|██████████████████████████████████████████████████████████████████████████████████| 20/20 [04:21<00:00, 13.08s/it]\n"
     ]
    }
   ],
   "source": [
    "from tqdm import tqdm\n",
    "# Set the range of singular values to test\n",
    "s_vals = np.logspace(-3, 3, 20)\n",
    "\n",
    "# Initialize arrays to store the performance metrics\n",
    "mse_3D_vals = np.zeros(len(s_vals))\n",
    "mse_1D_vals = np.zeros(len(s_vals))\n",
    "\n",
    "# Test each singular value\n",
    "for i, s in enumerate(tqdm(s_vals)):\n",
    "    # Scale the reservoir weight matrix\n",
    "    reservoir_3D.w_reserv *= s\n",
    "    reservoir_1D.w_reserv *= s\n",
    "    \n",
    "    # Compute the reservoir states and the predicted time series\n",
    "    reservoir_3D.compute_reservoir_states()\n",
    "    reservoir_1D.compute_reservoir_states()\n",
    "    pred_3D = reservoir_3D.predict(x0)\n",
    "    pred_1D = reservoir_1D.predict(x2[:, 0])  # <-- use x2[:, 0] as initial condition\n",
    "    \n",
    "    # Evaluate the performance\n",
    "    mse_3D_vals[i] = np.mean((Y - pred_3D)**2)\n",
    "    mse_1D_vals[i] = np.mean((x2 - pred_1D.squeeze())**2)\n"
   ]
  },
  {
   "cell_type": "code",
   "execution_count": 62,
   "id": "108a8f3c",
   "metadata": {},
   "outputs": [
    {
     "data": {
      "image/png": "[encoded data removed]",
      "text/plain": [
       "<Figure size 800x600 with 1 Axes>"
      ]
     },
     "metadata": {},
     "output_type": "display_data"
    }
   ],
   "source": [
    "import matplotlib.pyplot as plt\n",
    "\n",
    "# Plot the results\n",
    "fig, ax = plt.subplots(figsize=(8, 6))\n",
    "ax.semilogx(s_vals, mse_3D_vals, 'b-', label='Full Lorenz system')\n",
    "ax.semilogx(s_vals, mse_1D_vals, 'r-', label='Single variable')\n",
    "ax.set_xlabel('Maximal singular value of W')\n",
    "ax.set_ylabel('Mean squared error')\n",
    "ax.legend()\n",
    "plt.show()"
   ]
  },
  {
   "cell_type": "markdown",
   "id": "8d1527eb",
   "metadata": {},
   "source": [
    "## Jesper Code"
   ]
  },
  {
   "cell_type": "code",
   "execution_count": 25,
   "id": "06b7300a",
   "metadata": {},
   "outputs": [],
   "source": [
    "from matplotlib import projections\n",
    "import numpy as np\n",
    "import matplotlib.pyplot as plt\n",
    "from sklearn.metrics import mean_squared_error as MSE\n",
    "def generate_lorenz(dt,T,x0):\n",
    "    x = np.zeros((3,T))\n",
    "    x[:,0] = x0\n",
    "    for t in range(T-1):\n",
    "        x[0,t+1] = x[0,t] + dt*sigma*(x[1,t] - x[0,t])\n",
    "        x[1,t+1] = x[1,t] + dt*(x[0,t]*(r - x[2,t]) - x[1,t])\n",
    "        x[2,t+1] = x[2,t] + dt*(x[0,t]*x[1,t] - b*x[2,t])\n",
    "    return x\n",
    "\n",
    "\n",
    "def train_rnn(x: np.array([]),n_neurons: int, k_ridge: float, sigma: float):\n",
    "    #Using linear regression (Least square) as training\n",
    "    n_inputs = np.size(x,axis=0)\n",
    "    t_train = np.size(x,axis=1)\n",
    "    w_in = np.random.normal(0,np.sqrt(1/n_neurons),(n_neurons, n_inputs))\n",
    "    w_r = np.random.normal(0,np.sqrt(sigma),(n_neurons, n_neurons))\n",
    "    r = np.zeros((n_neurons,t_train))\n",
    "    r0 = np.zeros((n_neurons,1))\n",
    "    for t in range(t_train):\n",
    "        arg1 = np.matmul(w_r,np.transpose(np.matrix(r[:,t])))\n",
    "        arg2 = np.matmul(w_in,np.transpose(np.matrix(x[:,t])))\n",
    "        if t == t_train-1:\n",
    "            r0 = np.reshape(np.tanh(arg1 + arg2),-1)\n",
    "        else:\n",
    "            r[:,t+1] = np.reshape(np.tanh(arg1 + arg2),-1)\n",
    "    matrix1 = np.matmul(x,np.transpose(r))\n",
    "    matrix2 = np.linalg.inv(np.matmul(r,np.transpose(r)) + k_ridge*np.identity(n_neurons))\n",
    "    w_out = np.matmul(matrix1,matrix2)\n",
    "    return w_out, w_in, w_r, r0\n",
    "\n",
    "\n",
    "def rnn_predict(w_out: np.array([]), w_in: np.array([]), w_r: np.array([]), t_predict: int, r0: np.array([])):\n",
    "    n_inputs = np.size(w_in,axis=1)\n",
    "    x_pred = np.zeros((n_inputs,t_predict))\n",
    "    r = np.zeros((n_neurons,t_predict+1))\n",
    "    r[:,0] = r0\n",
    "    for t in range(t_predict):\n",
    "        x_pred[:,t] = np.matmul(w_out,r[:,t])\n",
    "        arg1 = np.matmul(w_r,np.transpose(np.matrix(r[:,t])))\n",
    "        arg2 = np.matmul(w_in,np.transpose(np.matrix(x_pred[:,t])))\n",
    "        r[:,t+1] = np.reshape(np.tanh(arg1 + arg2),-1)\n",
    "    return x_pred"
   ]
  },
  {
   "cell_type": "code",
   "execution_count": 39,
   "id": "7e906ccd",
   "metadata": {},
   "outputs": [],
   "source": [
    "from tqdm import trange\n",
    "def sv_n_error(isOneD):\n",
    "    sigma = [10**i/10**(n_samples-sample_drift) for i in range(n_samples)]\n",
    "    mse = np.zeros((n_samples,1))\n",
    "    sing_val = np.zeros((n_samples,1))\n",
    "    y = np.matrix(x_train[1,:])\n",
    "    y_test = np.asarray(x_test[1,:])\n",
    "    #Correct form on MSE for 3d???\n",
    "    #Shorter test time series?\n",
    "    for i in trange(n_samples):\n",
    "        for j in range(monka):\n",
    "            if isOneD:\n",
    "                w_out, w_in, w_r, r0 = train_rnn(y, n_neurons, k_ridge, sigma[i])\n",
    "            else:\n",
    "                w_out, w_in, w_r, r0 = train_rnn(x_train, n_neurons, k_ridge, sigma[i])\n",
    "            x_pred = rnn_predict(w_out, w_in, w_r, t_predict, r0)\n",
    "            u, s, vh = np.linalg.svd(w_r)\n",
    "            \n",
    "            if isOneD:\n",
    "                x_pred = np.reshape(x_pred,-1)\n",
    "                mse[i] += MSE(y_test,x_pred)/monka\n",
    "            else:\n",
    "                mse[i] += MSE(np.transpose(x_test),np.transpose(x_pred))/monka\n",
    "            sing_val[i] += max(s)/monka\n",
    "    return sing_val, mse"
   ]
  },
  {
   "cell_type": "code",
   "execution_count": 27,
   "id": "174efb2f",
   "metadata": {},
   "outputs": [],
   "source": [
    "def jacoby(x: np.array([])):\n",
    "    return np.array([[-sigma, sigma, 0], [r-x[2],-1,-x[0]], [x[1],x[0],-b]])\n",
    "\n",
    "def get_lupanov(x: np.array([])):\n",
    "    lambdas = np.zeros((3,1))\n",
    "    Q = np.identity(3)\n",
    "    rango = range(500,T)\n",
    "    for t in rango:\n",
    "        M = np.identity(3) + jacoby(x[:,t]) * dt\n",
    "        a = np.matmul(M,Q)\n",
    "        Q, R = np.linalg.qr(a,mode='complete')\n",
    "        for i in range(3):\n",
    "            lambdas[i] += np.log(abs(R[i,i]))/(dt*len(rango))\n",
    "    return lambdas"
   ]
  },
  {
   "cell_type": "code",
   "execution_count": 30,
   "id": "607d524f",
   "metadata": {},
   "outputs": [
    {
     "name": "stdout",
     "output_type": "stream",
     "text": [
      "Lypanov exponents: [[ 9.16158976e-01]\n",
      " [-7.47140748e-03]\n",
      " [-1.48369097e+01]]\n"
     ]
    },
    {
     "data": {
      "image/png": "[encoded data removed]",
      "text/plain": [
       "<Figure size 640x480 with 1 Axes>"
      ]
     },
     "metadata": {},
     "output_type": "display_data"
    }
   ],
   "source": [
    "sigma = 10\n",
    "r = 28\n",
    "b = 8/3\n",
    "dt = 0.01\n",
    "k_ridge = 0.01\n",
    "n_neurons = 500\n",
    "n_samples = 30\n",
    "T = 5000\n",
    "T_train = int(0.85*T)\n",
    "t_predict = T - T_train\n",
    "monka = 10\n",
    "sample_drift = 15\n",
    "x0 = np.array([1,1,1])\n",
    "x = generate_lorenz(dt,T,x0)\n",
    "x_train = x[:,range(T_train)]\n",
    "x_test = x[:,range(T_train,T)]\n",
    "\n",
    "\n",
    "#4\n",
    "lambdas = get_lupanov(x)\n",
    "print(f'Lypanov exponents: {lambdas}')\n",
    "lyp1 = lambdas[0]\n",
    "y = np.matrix(x_train[1,:])\n",
    "w_out, w_in, w_r, r0 = train_rnn(y, n_neurons, k_ridge,1/n_neurons)\n",
    "x_pred_x2 = rnn_predict(w_out, w_in, w_r, t_predict, r0)\n",
    "y_test = np.asarray(x_test[1,:])\n",
    "x_pred_x2 = np.reshape(x_pred_x2,-1)\n",
    "ind_bigus = int(t_predict/50)\n",
    "mse = np.zeros(ind_bigus)\n",
    "tot_time = lyp1*T*dt\n",
    "t_scale = np.linspace(0,tot_time,ind_bigus)\n",
    "\n",
    "for i in range(1,ind_bigus):\n",
    "    mse[i] = MSE(y_test[range(i*50)], x_pred_x2[range(i*50)])\n",
    "plt.figure()\n",
    "plt.plot(t_scale, mse)\n",
    "plt.xscale(\"log\")\n",
    "plt.yscale('log')\n",
    "plt.xlabel(r'$\\lambda_1 t$')\n",
    "plt.ylabel(r'Mean Squared Error of $x_2$')\n",
    "plt.show()"
   ]
  },
  {
   "cell_type": "code",
   "execution_count": 40,
   "id": "efd61ea5",
   "metadata": {},
   "outputs": [
    {
     "name": "stderr",
     "output_type": "stream",
     "text": [
      "100%|██████████████████████████████████████████████████████████████████████████████████| 30/30 [04:28<00:00,  8.95s/it]\n"
     ]
    },
    {
     "data": {
      "image/png": "[encoded data removed]",
      "text/plain": [
       "<Figure size 640x480 with 1 Axes>"
      ]
     },
     "metadata": {},
     "output_type": "display_data"
    }
   ],
   "source": [
    "#3\n",
    "sing_val, mse = sv_n_error(True)\n",
    "plt.plot(sing_val,mse)\n",
    "plt.xscale(\"log\")\n",
    "plt.xlabel('Maximal Singular Value')\n",
    "plt.ylabel('Mean Square Error')\n",
    "plt.show()"
   ]
  },
  {
   "cell_type": "code",
   "execution_count": null,
   "id": "402f504d",
   "metadata": {},
   "outputs": [],
   "source": []
  }
 ],
 "metadata": {
  "kernelspec": {
   "display_name": "hwa_venv",
   "language": "python",
   "name": "hwa_venv"
  },
  "language_info": {
   "codemirror_mode": {
    "name": "ipython",
    "version": 3
   },
   "file_extension": ".py",
   "mimetype": "text/x-python",
   "name": "python",
   "nbconvert_exporter": "python",
   "pygments_lexer": "ipython3",
   "version": "3.9.13"
  }
 },
 "nbformat": 4,
 "nbformat_minor": 5
}
