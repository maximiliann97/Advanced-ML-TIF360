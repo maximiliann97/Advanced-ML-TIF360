{
 "cells": [
  {
   "cell_type": "code",
   "execution_count": 1,
   "id": "a8c6f33d",
   "metadata": {},
   "outputs": [],
   "source": [
    "import numpy as np\n",
    "from scipy.integrate import solve_ivp\n",
    "\n",
    "# Define the Lorenz system\n",
    "def lorenz(t, xyz, sigma, r, b):\n",
    "    x, y, z = xyz\n",
    "    dxdt = -sigma*x + sigma*y\n",
    "    dydt = -x*z + r*x - y\n",
    "    dzdt = x*y - b*z\n",
    "    return [dxdt, dydt, dzdt]\n",
    "\n",
    "# Set the parameters\n",
    "sigma = 10\n",
    "r = 28\n",
    "b = 8/3\n",
    "\n",
    "# Set the initial conditions and time span\n",
    "t0, tf = 0, 100\n",
    "x0 = [1, 1, 1]\n",
    "t_span = [t0, tf]\n",
    "\n",
    "# Define the time step and the number of steps\n",
    "dt = 0.01\n",
    "t_steps = int((tf - t0) / dt) + 1\n",
    "\n",
    "# Solve the system using the fourth-order Runge-Kutta method\n",
    "sol = solve_ivp(lorenz, t_span, x0, t_eval=np.linspace(t0, tf, t_steps), args=(sigma, r, b))\n",
    "\n",
    "# Extract the second component of the solution as the time series x2(t)\n",
    "x2 = sol.y[1]"
   ]
  }
 ],
 "metadata": {
  "kernelspec": {
   "display_name": "hwa_venv",
   "language": "python",
   "name": "hwa_venv"
  },
  "language_info": {
   "codemirror_mode": {
    "name": "ipython",
    "version": 3
   },
   "file_extension": ".py",
   "mimetype": "text/x-python",
   "name": "python",
   "nbconvert_exporter": "python",
   "pygments_lexer": "ipython3",
   "version": "3.9.13"
  }
 },
 "nbformat": 4,
 "nbformat_minor": 5
}
