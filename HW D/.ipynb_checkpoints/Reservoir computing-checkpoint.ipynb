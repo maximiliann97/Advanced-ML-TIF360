{
 "cells": [
  {
   "cell_type": "markdown",
   "id": "56a02b72",
   "metadata": {},
   "source": [
    "### Task 1 - Create data set "
   ]
  },
  {
   "cell_type": "code",
   "execution_count": 114,
   "id": "a8c6f33d",
   "metadata": {},
   "outputs": [
    {
     "name": "stdout",
     "output_type": "stream",
     "text": [
      "10001\n",
      "(10001,)\n"
     ]
    }
   ],
   "source": [
    "import numpy as np\n",
    "from scipy.integrate import solve_ivp\n",
    "\n",
    "# Define the Lorenz system\n",
    "def lorenz(t, xyz, sigma, r, b):\n",
    "    x, y, z = xyz\n",
    "    dxdt = -sigma*x + sigma*y\n",
    "    dydt = -x*z + r*x - y\n",
    "    dzdt = x*y - b*z\n",
    "    return [dxdt, dydt, dzdt]\n",
    "\n",
    "# Set the parameters\n",
    "sigma = 10\n",
    "r = 28\n",
    "b = 8/3\n",
    "\n",
    "# Set the initial conditions and time span\n",
    "t0, tf = 0, 100\n",
    "x0 = [1, 1, 1]\n",
    "t_span = [t0, tf]\n",
    "\n",
    "# Define the time step and the number of steps\n",
    "dt = 0.01\n",
    "t_steps = int((tf - t0) / dt) + 1\n",
    "\n",
    "# Solve the system using the fourth-order Runge-Kutta method\n",
    "sol = solve_ivp(lorenz, t_span, x0, t_eval=np.linspace(t0, tf, t_steps), args=(sigma, r, b))\n",
    "\n",
    "Y = sol.y\n",
    "nComp = np.shape(Y[1])\n",
    "print(np.shape(Y)[1])\n",
    "print(nComp)\n"
   ]
  },
  {
   "cell_type": "markdown",
   "id": "8bc3d717",
   "metadata": {},
   "source": [
    "### Task 2"
   ]
  },
  {
   "cell_type": "code",
   "execution_count": 115,
   "id": "95ba14d5",
   "metadata": {},
   "outputs": [],
   "source": [
    "class Reservoir:\n",
    "    def __init__(self, input_size, nReservoirNeurons, sigma, Y):\n",
    "        self.n = input_size\n",
    "        self.N = nReservoirNeurons\n",
    "        self.sigma = sigma\n",
    "        self.Y = Y\n",
    "        self.T = Y.shape[1]\n",
    "        self.w_in = np.random.normal(loc=0, scale=sigma, size=(self.N, self.n))\n",
    "        self.w_reserv = self.get_reservoir_weights()\n",
    "        self.w_out = np.random.normal(loc=0, scale=sigma, size=(self.n, self.N))\n",
    "        \n",
    "    def get_reservoir_weights(self):\n",
    "        sparsity = 0.1\n",
    "        dense_w = np.random.normal(loc=0, scale=sigma, size=(self.N, self.N))\n",
    "        frac = int(self.N*self.N*sparsity)\n",
    "        indices = np.random.choice(self.N*self.N, frac, replace=False)\n",
    "        \n",
    "        row_indices = indices // self.N  # convert 1D indices to 2D row indices\n",
    "        col_indices = indices % self.N   # convert 1D indices to 2D column indices\n",
    "        sparse_w = np.zeros((self.N, self.N))\n",
    "        \n",
    "        sparse_w[row_indices, col_indices] = dense_w[row_indices, col_indices]\n",
    "        return sparse_w\n",
    "        \n",
    "    def g(self, local_field):\n",
    "        return np.tanh(local_field)\n",
    "    \n",
    "    \n",
    "    def compute_reservoir_states(self):\n",
    "        r = np.zeros(self.N)\n",
    "        R = np.zeros((self.N, self.T))\n",
    "        \n",
    "        for t in range(self.T-1):\n",
    "            reservoir_field = np.dot(self.w_reserv, r)\n",
    "            input_field = np.dot(self.w_in, self.Y[:,t])\n",
    "            r = self.g(reservoir_field + input_field)\n",
    "            R[:, t] = r\n",
    "            \n",
    "        alpha = 1e-6\n",
    "        I = np.identity(self.N)\n",
    "        self.w_out = np.dot(np.dot(self.Y, R.T), np.linalg.inv(np.dot(R, R.T) + alpha * I))\n",
    "        \n",
    "    def predict(self, x0):\n",
    "        x = x0\n",
    "        r = np.zeros(self.N)\n",
    "        y = np.zeros((self.n, self.T))\n",
    "        y[:,0] = x0\n",
    "        for t in range(self.T-1):\n",
    "            reservoir_field = np.dot(self.w_reserv, r)\n",
    "            input_field = np.dot(self.w_in, x)\n",
    "            r = self.g(reservoir_field + input_field.reshape(self.N))\n",
    "            y[:, t+1] = np.dot(self.w_out, r)\n",
    "            x = y[:, t+1]\n",
    "        return y"
   ]
  },
  {
   "cell_type": "code",
   "execution_count": 123,
   "id": "8dbccfe8",
   "metadata": {},
   "outputs": [],
   "source": [
    "#Parameters\n",
    "reserv_size = 1000\n",
    "sigma = 0.2\n",
    "temp = Y[1,:]\n",
    "x2 = temp.reshape((1, Y.shape[1]))\n",
    "\n",
    "reservoir_3D = Reservoir(input_size=3, nReservoirNeurons=reserv_size, sigma=sigma, Y=Y)\n",
    "reservoir_3D.compute_reservoir_states()\n",
    "\n",
    "reservoir_1D = Reservoir(input_size=1, nReservoirNeurons=reserv_size, sigma=sigma, Y=x2)\n",
    "reservoir_1D.compute_reservoir_states()"
   ]
  },
  {
   "cell_type": "markdown",
   "id": "f478de06",
   "metadata": {},
   "source": [
    "### Task 3"
   ]
  },
  {
   "cell_type": "code",
   "execution_count": null,
   "id": "15bdcd22",
   "metadata": {},
   "outputs": [],
   "source": []
  }
 ],
 "metadata": {
  "kernelspec": {
   "display_name": "hwa_venv",
   "language": "python",
   "name": "hwa_venv"
  },
  "language_info": {
   "codemirror_mode": {
    "name": "ipython",
    "version": 3
   },
   "file_extension": ".py",
   "mimetype": "text/x-python",
   "name": "python",
   "nbconvert_exporter": "python",
   "pygments_lexer": "ipython3",
   "version": "3.9.13"
  }
 },
 "nbformat": 4,
 "nbformat_minor": 5
}
