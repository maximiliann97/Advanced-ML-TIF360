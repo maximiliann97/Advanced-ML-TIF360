{
 "cells": [
  {
   "cell_type": "code",
   "execution_count": 1,
   "metadata": {},
   "outputs": [
    {
     "name": "stderr",
     "output_type": "stream",
     "text": [
      "C:\\Users\\Maximilian\\Documents\\Chalmers\\Advanced machine learning with neural networks\\Advanced-ML-TIF360\\hwc_venv\\lib\\site-packages\\deeptrack\\backend\\_config.py:11: UserWarning: cupy not installed. GPU-accelerated simulations will not be possible\n",
      "  warnings.warn(\n",
      "C:\\Users\\Maximilian\\Documents\\Chalmers\\Advanced machine learning with neural networks\\Advanced-ML-TIF360\\hwc_venv\\lib\\site-packages\\deeptrack\\backend\\_config.py:25: UserWarning: cupy not installed, CPU acceleration not enabled\n",
      "  warnings.warn(\"cupy not installed, CPU acceleration not enabled\")\n",
      "C:\\Users\\Maximilian\\Documents\\Chalmers\\Advanced machine learning with neural networks\\Advanced-ML-TIF360\\hwc_venv\\lib\\site-packages\\tensorflow_addons\\utils\\tfa_eol_msg.py:23: UserWarning: \n",
      "\n",
      "TensorFlow Addons (TFA) has ended development and introduction of new features.\n",
      "TFA has entered a minimal maintenance and release mode until a planned end of life in May 2024.\n",
      "Please modify downstream libraries to take dependencies from other repositories in our TensorFlow community (e.g. Keras, Keras-CV, and Keras-NLP). \n",
      "\n",
      "For more information see: https://github.com/tensorflow/addons/issues/2807 \n",
      "\n",
      "  warnings.warn(\n",
      "C:\\Users\\Maximilian\\Documents\\Chalmers\\Advanced machine learning with neural networks\\Advanced-ML-TIF360\\hwc_venv\\lib\\site-packages\\tqdm\\auto.py:21: TqdmWarning: IProgress not found. Please update jupyter and ipywidgets. See https://ipywidgets.readthedocs.io/en/stable/user_install.html\n",
      "  from .autonotebook import tqdm as notebook_tqdm\n"
     ]
    }
   ],
   "source": [
    "import deeptrack as dt\n",
    "import numpy as np\n",
    "\n",
    "IMAGE_SIZE = 64\n",
    "sequence_length = 10  # Number of frames per sequence\n",
    "MIN_SIZE = 0.5e-6\n",
    "MAX_SIZE = 1.5e-6\n",
    "MAX_VEL = 10  # Maximum velocity. The higher the trickier!\n",
    "MAX_PARTICLES = 3  # Max number of particles in each sequence. The higher the trickier!\n",
    "\n",
    "# Defining properties of the particles\n",
    "particle = dt.Sphere(\n",
    "    intensity=lambda: 10 + 10 * np.random.rand(),\n",
    "    radius=lambda: MIN_SIZE + np.random.rand() * (MAX_SIZE - MIN_SIZE),\n",
    "    position=lambda: IMAGE_SIZE * np.random.rand(2),\n",
    "    vel=lambda: MAX_VEL * np.random.rand(2),\n",
    "    position_unit=\"pixel\",\n",
    ")\n",
    "\n",
    "# Defining an update rule for the particle position\n",
    "def get_position(previous_value, vel):\n",
    "\n",
    "    newv = previous_value + vel\n",
    "    for i in range(2):\n",
    "        if newv[i] > 63:\n",
    "            newv[i] = 63 - np.abs(newv[i] - 63)\n",
    "            vel[i] = -vel[i]\n",
    "        elif newv[i] < 0:\n",
    "            newv[i] = np.abs(newv[i])\n",
    "            vel[i] = -vel[i]\n",
    "    return newv\n",
    "\n",
    "\n",
    "particle = dt.Sequential(particle, position=get_position)\n",
    "\n",
    "# Defining properties of the microscope\n",
    "optics = dt.Fluorescence(\n",
    "    NA=1,\n",
    "    output_region=(0, 0, IMAGE_SIZE, IMAGE_SIZE),\n",
    "    magnification=10,\n",
    "    resolution=(1e-6, 1e-6, 1e-6),\n",
    "    wavelength=633e-9,\n",
    ")\n",
    "\n",
    "# Combining everything into a dataset.\n",
    "# Note that the sequences are flipped in different directions, so that each unique sequence defines\n",
    "# in fact 8 sequences flipped in different directions, to speed up data generation\n",
    "sequential_images = dt.Sequence(\n",
    "    optics(particle ** (lambda: 1 + np.random.randint(MAX_PARTICLES))),\n",
    "    sequence_length=sequence_length,\n",
    ")\n",
    "dataset = sequential_images >> dt.FlipUD() >> dt.FlipDiagonal() >> dt.FlipLR()"
   ]
  },
  {
   "cell_type": "code",
   "execution_count": 19,
   "metadata": {},
   "outputs": [],
   "source": [
    "from tensorflow import keras\n",
    "from tensorflow.keras import Model, layers, losses\n",
    "import tensorflow as tf\n",
    "Layer=keras.layers.Layer\n",
    "Conv1D=keras.layers.Conv1D\n",
    "MaxPool2D=keras.layers.MaxPooling2D\n",
    "Dense=keras.layers.Dense\n",
    "Flatten=keras.layers.Flatten\n",
    "Reshape=keras.layers.Reshape\n",
    "Dropout=tf.keras.layers.Dropout\n",
    "LayerNormalization=tf.keras.layers.LayerNormalization\n",
    "\n",
    "class Time2Vector(Layer): #Time embedding layer\n",
    "    def __init__(self, seq_len, **kwargs):\n",
    "        super(Time2Vector, self).__init__()\n",
    "        self.seq_len = seq_len\n",
    "\n",
    "    def build(self, input_shape):\n",
    "        self.weights_linear = self.add_weight(name='weight_linear',\n",
    "                                    shape=(int(self.seq_len),),\n",
    "                                    initializer='uniform',\n",
    "                                    trainable=True)\n",
    "\n",
    "        self.bias_linear = self.add_weight(name='bias_linear',\n",
    "                                    shape=(int(self.seq_len),),\n",
    "                                    initializer='uniform',\n",
    "                                    trainable=True)\n",
    "\n",
    "        self.weights_periodic = self.add_weight(name='weight_periodic',\n",
    "                                    shape=(int(self.seq_len),),\n",
    "                                    initializer='uniform',\n",
    "                                    trainable=True)\n",
    "\n",
    "        self.bias_periodic = self.add_weight(name='bias_periodic',\n",
    "                                    shape=(int(self.seq_len),),\n",
    "                                    initializer='uniform',\n",
    "                                    trainable=True)\n",
    "\n",
    "    def call(self, x):\n",
    "        x = tf.math.reduce_mean(x[:,:,:], axis=-1) # Convert (batch, seq_len, 5) to (batch, seq_len)\n",
    "        time_linear = self.weights_linear * x + self.bias_linear\n",
    "        time_linear = tf.expand_dims(time_linear, axis=-1) # (batch, seq_len, 1)\n",
    "\n",
    "        time_periodic = tf.math.sin(tf.multiply(x, self.weights_periodic) + self.bias_periodic)\n",
    "        time_periodic = tf.expand_dims(time_periodic, axis=-1) # (batch, seq_len, 1)\n",
    "        return tf.concat([time_linear, time_periodic], axis=-1) # (batch, seq_len, 2)"
   ]
  },
  {
   "cell_type": "code",
   "execution_count": 3,
   "metadata": {},
   "outputs": [],
   "source": [
    "class SingleAttention(Layer): #Attention layer\n",
    "    def __init__(self, d_k, d_v):\n",
    "        super(SingleAttention, self).__init__()\n",
    "        self.d_k = d_k\n",
    "        self.d_v = d_v\n",
    "\n",
    "    def build(self, input_shape):\n",
    "        self.query = Dense(self.d_k, input_shape=input_shape, kernel_initializer='glorot_uniform', bias_initializer='glorot_uniform')\n",
    "        self.key = Dense(self.d_k, input_shape=input_shape, kernel_initializer='glorot_uniform', bias_initializer='glorot_uniform')\n",
    "        self.value = Dense(self.d_v, input_shape=input_shape, kernel_initializer='glorot_uniform', bias_initializer='glorot_uniform')\n",
    "\n",
    "    def call(self, inputs): # inputs = (in_seq, in_seq, in_seq)\n",
    "        q = self.query(inputs[0])\n",
    "        k = self.key(inputs[1])\n",
    "\n",
    "        attn_weights = tf.matmul(q, k, transpose_b=True)\n",
    "        attn_weights = tf.map_fn(lambda x: x/np.sqrt(self.d_k), attn_weights)\n",
    "        attn_weights = tf.nn.softmax(attn_weights, axis=-1)\n",
    "\n",
    "        v = self.value(inputs[2])\n",
    "        attn_out = tf.matmul(attn_weights, v)\n",
    "        return attn_out "
   ]
  },
  {
   "cell_type": "code",
   "execution_count": 36,
   "metadata": {},
   "outputs": [],
   "source": [
    "class MultiAttention(Layer):\n",
    "    def __init__(self, d_k, d_v, h, d_f):\n",
    "        super(MultiAttention, self).__init__()\n",
    "        self.d_k = d_k\n",
    "        self.d_v = d_v\n",
    "        self.heads = h\n",
    "        self.d_f = d_f\n",
    "        self.attn_layers = list()\n",
    "        \n",
    "    def build(self, input_shape):\n",
    "        for head in range(self.heads):\n",
    "            self.attn_layers.append(SingleAttention(self.d_k, self.d_v))\n",
    "        self.dense = Dense(self.d_f, input_shape=input_shape, kernel_initializer='glorot_uniform', bias_initializer='glorot_uniform')\n",
    "    \n",
    "    def call(self, inputs):\n",
    "        attention = [self.attn_layers[i](inputs) for i in range(self.heads)]\n",
    "        conc_attention = tf.concat(attention, axis=-1)\n",
    "        ml = self.dense(conc_attention)\n",
    "        return ml"
   ]
  },
  {
   "cell_type": "code",
   "execution_count": 37,
   "metadata": {},
   "outputs": [],
   "source": [
    "class TransformerEncoder(Layer):\n",
    "    def __init__(self, d_k, d_v, h, d_f, d_ff, **kwargs):\n",
    "        super(TransformerEncoder, self).__init__()\n",
    "        self.d_k = d_k\n",
    "        self.d_v = d_v\n",
    "        self.heads = h\n",
    "        self.d_f = d_f\n",
    "        self.d_ff = d_ff\n",
    "        self.attn_layers = list()\n",
    "        \n",
    "    def build(self, input_shape):\n",
    "        self.multi_head = MultiAttention(self.d_k, self.d_v, self.heads, self.d_f)\n",
    "        self.dropout = Dropout(rate=0.2)\n",
    "        self.norm1 = LayerNormalization(input_shape=input_shape, epsilon=0.0001)\n",
    "        self.conv1 = Conv1D(filters=self.d_ff, kernel_size=1, activation='relu')\n",
    "        self.conv2 = Conv1D(filters=self.d_f, kernel_size=1)\n",
    "        self.norm2 = LayerNormalization(input_shape=input_shape, epsilon=0.0001)\n",
    "        \n",
    "    \n",
    "    def call(self, inputs):\n",
    "        res = inputs[0]\n",
    "        \n",
    "        #Attention\n",
    "        x = self.multi_head(inputs)\n",
    "        x = self.dropout(x)\n",
    "        x = self.norm1(x + res)\n",
    "        \n",
    "        #Feed-forward\n",
    "        x = self.conv1(x)\n",
    "        x = self.conv2(x)\n",
    "        x = self.norm2(x + res)\n",
    "        \n",
    "        return x\n",
    "    \n",
    "    \n"
   ]
  },
  {
   "cell_type": "markdown",
   "metadata": {},
   "source": [
    "## Data processing"
   ]
  },
  {
   "cell_type": "code",
   "execution_count": 6,
   "metadata": {},
   "outputs": [
    {
     "name": "stderr",
     "output_type": "stream",
     "text": [
      "100%|██████████████████████████████████████████████████████████████████████████████| 1000/1000 [14:04<00:00,  1.18it/s]\n"
     ]
    }
   ],
   "source": [
    "from tqdm import trange\n",
    "def retrieve_data(data_size):\n",
    "    frames = []\n",
    "\n",
    "    for d in trange(data_size):\n",
    "        video = dataset.update().resolve()\n",
    "        for frame in video:\n",
    "            frames.append(frame)\n",
    "\n",
    "    return tf.stack(frames)\n",
    "\n",
    "data_size = 1000\n",
    "\n",
    "# Save the data\n",
    "data = retrieve_data(data_size)"
   ]
  },
  {
   "cell_type": "code",
   "execution_count": 7,
   "metadata": {},
   "outputs": [],
   "source": [
    "np.save('video_data.npy', data)"
   ]
  },
  {
   "cell_type": "code",
   "execution_count": 4,
   "metadata": {},
   "outputs": [],
   "source": [
    "# Load if data is already generated\n",
    "data = np.load('video_data.npy')"
   ]
  },
  {
   "cell_type": "markdown",
   "metadata": {},
   "source": [
    "#### Split into training and validation data"
   ]
  },
  {
   "cell_type": "code",
   "execution_count": 5,
   "metadata": {},
   "outputs": [
    {
     "name": "stdout",
     "output_type": "stream",
     "text": [
      "Training data size: (8000, 64, 64, 1)\n",
      "Validation data size: (2000, 64, 64, 1)\n"
     ]
    }
   ],
   "source": [
    "num_frames = len(data)\n",
    "train_size = int(num_frames * 0.8)\n",
    "val_size = num_frames - train_size\n",
    "\n",
    "train_data = data[:train_size]\n",
    "val_data = data[train_size:]\n",
    "\n",
    "max_val = tf.reduce_max(tf.concat([train_data, val_data], axis=0))\n",
    "train_data /= max_val\n",
    "val_data /= max_val\n",
    "\n",
    "print(\"Training data size:\", train_data.shape)\n",
    "print(\"Validation data size:\", val_data.shape)"
   ]
  },
  {
   "cell_type": "markdown",
   "metadata": {},
   "source": [
    "## Task 1\n",
    "The first step is to pretrain the convolution encoder and decoder as an autoencoder. In other words, during this step of the training, frames are passed through\n",
    "the convolutional encoder individually, and the output from the encoder is passed\n",
    "directly to the decoder. The job of the decoder is to reconstruct the original video\n",
    "frame from the downsampled representation provided by the convolutional encoder.\n",
    "How does the performance of the autoencoder depend on the number of features\n",
    "extracted at the bottleneck? "
   ]
  },
  {
   "cell_type": "markdown",
   "metadata": {},
   "source": [
    "#### Convolutional Autoencoder"
   ]
  },
  {
   "cell_type": "code",
   "execution_count": 9,
   "metadata": {},
   "outputs": [
    {
     "name": "stdout",
     "output_type": "stream",
     "text": [
      "16\n",
      "Model: \"sequential\"\n",
      "_________________________________________________________________\n",
      " Layer (type)                Output Shape              Param #   \n",
      "=================================================================\n",
      " conv2d (Conv2D)             (None, 16, 16, 64)        1088      \n",
      "                                                                 \n",
      " conv2d_1 (Conv2D)           (None, 4, 4, 1)           1025      \n",
      "                                                                 \n",
      " flatten_1 (Flatten)         (None, 16)                0         \n",
      "                                                                 \n",
      "=================================================================\n",
      "Total params: 2,113\n",
      "Trainable params: 2,113\n",
      "Non-trainable params: 0\n",
      "_________________________________________________________________\n",
      "Model: \"sequential_1\"\n",
      "_________________________________________________________________\n",
      " Layer (type)                Output Shape              Param #   \n",
      "=================================================================\n",
      " reshape (Reshape)           (None, 4, 4, 1)           0         \n",
      "                                                                 \n",
      " conv2d_transpose (Conv2DTra  (None, 16, 16, 1)        17        \n",
      " nspose)                                                         \n",
      "                                                                 \n",
      " conv2d_transpose_1 (Conv2DT  (None, 64, 64, 64)       4160      \n",
      " ranspose)                                                       \n",
      "                                                                 \n",
      " conv2d_2 (Conv2D)           (None, 64, 64, 1)         65        \n",
      "                                                                 \n",
      "=================================================================\n",
      "Total params: 4,242\n",
      "Trainable params: 4,242\n",
      "Non-trainable params: 0\n",
      "_________________________________________________________________\n"
     ]
    }
   ],
   "source": [
    "Conv2D=keras.layers.Conv2D\n",
    "MaxPool2D=keras.layers.MaxPooling2D\n",
    "Dense=keras.layers.Dense\n",
    "Flatten=keras.layers.Flatten\n",
    "Reshape=keras.layers.Reshape\n",
    "Input = keras.layers.Input\n",
    "Sequential = keras.Sequential\n",
    "Conv2DTranspose = keras.layers.Conv2DTranspose\n",
    "\n",
    "k_size = 4\n",
    "n_filters = 1\n",
    "bottleneck_size = k_size**2*n_filters\n",
    "print(bottleneck_size)\n",
    "class AutoEncoder(Model):\n",
    "    def __init__(self):\n",
    "        super(AutoEncoder, self).__init__()\n",
    "        self.encoder = Sequential([\n",
    "            Input(shape=(IMAGE_SIZE, IMAGE_SIZE, 1)),\n",
    "            Conv2D(64, (4, 4), activation='relu', padding='same', strides=4),\n",
    "            Conv2D(n_filters, (k_size, k_size), activation='relu', padding='same', strides=4),\n",
    "            Flatten()\n",
    "            ])\n",
    "        \n",
    "        bottleneck_size = k_size**2*n_filters\n",
    "        self.decoder = Sequential([\n",
    "            Input(shape=(bottleneck_size,)),\n",
    "            Reshape(target_shape=(4, 4, n_filters)),\n",
    "            Conv2DTranspose(n_filters, (4, 4), strides=(4, 4), activation='relu', padding='same'),\n",
    "            Conv2DTranspose(64, (8, 8), strides=(4, 4), activation='relu', padding='same'),\n",
    "            Conv2D(1, (1, 1), activation='linear', padding='same')\n",
    "            ])\n",
    "    def call(self, input):\n",
    "        x = self.encoder(input)\n",
    "        x = self.decoder(x)\n",
    "        return x\n",
    "\n",
    "\n",
    "\n",
    "autoencoder = AutoEncoder()\n",
    "autoencoder.compile(optimizer='adam', loss=losses.MeanSquaredError())\n",
    "\n",
    "autoencoder.encoder.build(input_shape=(None, 64, 64, 1))\n",
    "autoencoder.encoder.summary()\n",
    "\n",
    "autoencoder.decoder.build(input_shape=(None, bottleneck_size))\n",
    "autoencoder.decoder.summary()"
   ]
  },
  {
   "cell_type": "code",
   "execution_count": 10,
   "metadata": {},
   "outputs": [
    {
     "name": "stdout",
     "output_type": "stream",
     "text": [
      "Epoch 1/40\n",
      "250/250 [==============================] - 44s 174ms/step - loss: 0.0052 - val_loss: 0.0040\n",
      "Epoch 2/40\n",
      "250/250 [==============================] - 42s 169ms/step - loss: 0.0037 - val_loss: 0.0035\n",
      "Epoch 3/40\n",
      "250/250 [==============================] - 43s 170ms/step - loss: 0.0033 - val_loss: 0.0034\n",
      "Epoch 4/40\n",
      "250/250 [==============================] - 41s 166ms/step - loss: 0.0032 - val_loss: 0.0033\n",
      "Epoch 5/40\n",
      "250/250 [==============================] - 42s 167ms/step - loss: 0.0032 - val_loss: 0.0033\n",
      "Epoch 6/40\n",
      "250/250 [==============================] - 41s 164ms/step - loss: 0.0032 - val_loss: 0.0032\n",
      "Epoch 7/40\n",
      "250/250 [==============================] - 41s 165ms/step - loss: 0.0031 - val_loss: 0.0032\n",
      "Epoch 8/40\n",
      "250/250 [==============================] - 43s 171ms/step - loss: 0.0031 - val_loss: 0.0032\n",
      "Epoch 9/40\n",
      "250/250 [==============================] - 43s 173ms/step - loss: 0.0031 - val_loss: 0.0032\n",
      "Epoch 10/40\n",
      "250/250 [==============================] - 43s 173ms/step - loss: 0.0031 - val_loss: 0.0032\n",
      "Epoch 11/40\n",
      "250/250 [==============================] - ETA: 0s - loss: 0.0031Restoring model weights from the end of the best epoch: 6.\n",
      "250/250 [==============================] - 41s 165ms/step - loss: 0.0031 - val_loss: 0.0032\n",
      "Epoch 11: early stopping\n"
     ]
    },
    {
     "name": "stderr",
     "output_type": "stream",
     "text": [
      "WARNING:absl:Found untraced functions such as _update_step_xla, _jit_compiled_convolution_op, _jit_compiled_convolution_op, _jit_compiled_convolution_op, _jit_compiled_convolution_op while saving (showing 5 of 6). These functions will not be directly callable after loading.\n"
     ]
    },
    {
     "name": "stdout",
     "output_type": "stream",
     "text": [
      "INFO:tensorflow:Assets written to: autoencoder_bottleneck_size=16\\assets\n"
     ]
    },
    {
     "name": "stderr",
     "output_type": "stream",
     "text": [
      "INFO:tensorflow:Assets written to: autoencoder_bottleneck_size=16\\assets\n"
     ]
    }
   ],
   "source": [
    "# Implement early stopping to stop the algorithm when validation loss stagnates\n",
    "# Start tracking from epoch 5, stop after 5 epochs of no improvement, store the best weights found, monitor over val_loss.\n",
    "# If improvement isnt larger then 1e-4 it is counted towards patience\n",
    "\n",
    "\n",
    "callback = tf.keras.callbacks.EarlyStopping(min_delta = 0.0001, monitor='val_loss', patience=5, verbose=1, start_from_epoch=5,\n",
    "                                            restore_best_weights=True)\n",
    "\n",
    "autoencoder.fit(train_data, train_data,\n",
    "                epochs=40,\n",
    "                shuffle=True,\n",
    "                validation_data=(val_data, val_data),\n",
    "                callbacks=[callback])\n",
    "\n",
    "autoencoder.save('autoencoder_bottleneck_size='+str(bottleneck_size))"
   ]
  },
  {
   "cell_type": "code",
   "execution_count": 13,
   "metadata": {
    "scrolled": true
   },
   "outputs": [
    {
     "data": {
      "image/png": "[encoded data removed]",
      "text/plain": [
       "<Figure size 2000x400 with 20 Axes>"
      ]
     },
     "metadata": {},
     "output_type": "display_data"
    }
   ],
   "source": [
    "# Saved autoencoders with different bottleneck sizes\n",
    "\n",
    "#autoencoder = tf.keras.models.load_model('autoencoder_bottleneck_size=1600')\n",
    "autoencoder = tf.keras.models.load_model('autoencoder_bottleneck_size=256')\n",
    "#autoencoder = tf.keras.models.load_model('autoencoder_bottleneck_size=128')\n",
    "#autoencoder = tf.keras.models.load_model('autoencoder_bottleneck_size=64')\n",
    "#autoencoder = tf.keras.models.load_model('autoencoder_bottleneck_size=16')\n",
    "\n",
    "import matplotlib.pyplot as plt\n",
    "\n",
    "n = sequence_length\n",
    "\n",
    "original_frames = val_data[0:sequence_length]\n",
    "encoded_frames = autoencoder.encoder(original_frames).numpy()\n",
    "decoded_frames = autoencoder.decoder(encoded_frames).numpy()\n",
    "\n",
    "plt.figure(figsize=(20, 4))\n",
    "\n",
    "for i in range(sequence_length):\n",
    "    # Display original frames\n",
    "    ax = plt.subplot(2, n, i + 1)\n",
    "    plt.imshow(tf.squeeze(original_frames[i]))\n",
    "    plt.title(\"Original image\")\n",
    "    plt.gray()\n",
    "    ax.get_xaxis().set_visible(False)\n",
    "    ax.get_yaxis().set_visible(False)\n",
    "\n",
    "    # Display reconstructed frames\n",
    "    ax = plt.subplot(2, n, i + 1 + n)\n",
    "    plt.imshow(tf.squeeze(decoded_frames[i]))\n",
    "    plt.title(\"Reconstructed\")\n",
    "    plt.gray()\n",
    "    ax.get_xaxis().set_visible(False)\n",
    "    ax.get_yaxis().set_visible(False)\n",
    "plt.show()"
   ]
  },
  {
   "cell_type": "code",
   "execution_count": 14,
   "metadata": {},
   "outputs": [
    {
     "name": "stdout",
     "output_type": "stream",
     "text": [
      "63/63 [==============================] - 3s 43ms/step - loss: 4.4192e-06\n",
      "autoencoder_256: Reconstruction loss = 4.4192e-06\n",
      "63/63 [==============================] - 3s 39ms/step - loss: 1.0159e-05\n",
      "autoencoder_128: Reconstruction loss = 1.0159e-05\n",
      "63/63 [==============================] - 3s 41ms/step - loss: 4.4340e-05\n",
      "autoencoder_64: Reconstruction loss = 4.4340e-05\n",
      "63/63 [==============================] - 3s 42ms/step - loss: 0.0032\n",
      "autoencoder_16: Reconstruction loss = 3.2476e-03\n"
     ]
    }
   ],
   "source": [
    "# Define the list of autoencoder models to evaluate\n",
    "autoencoder_models = {\n",
    "    'autoencoder_256': tf.keras.models.load_model('autoencoder_bottleneck_size=256'),\n",
    "    'autoencoder_128': tf.keras.models.load_model('autoencoder_bottleneck_size=128'),\n",
    "    'autoencoder_64': tf.keras.models.load_model('autoencoder_bottleneck_size=64'),\n",
    "    'autoencoder_16': tf.keras.models.load_model('autoencoder_bottleneck_size=16')\n",
    "}\n",
    "\n",
    "# Loop over the autoencoder models and evaluate the reconstruction loss\n",
    "for model_name, model in autoencoder_models.items():\n",
    "    test_loss = model.evaluate(val_data, val_data)\n",
    "    print(f'{model_name}: Reconstruction loss = {test_loss:.4e}')"
   ]
  },
  {
   "cell_type": "markdown",
   "metadata": {},
   "source": [
    "### Discussion about autoencoder bottleneck size\n",
    "The performance of an autoencoder typically depends on various factors, including the architecture of the network, the size of the training dataset, and the complexity of the input data. However, in general, the number of features extracted at the bottleneck can have a significant impact on the performance of the autoencoder.\n",
    "\n",
    "If the number of features extracted at the bottleneck is too small, the autoencoder may not be able to capture all of the important information in the input data. This can lead to poor reconstruction performance and loss of important details in the output.\n",
    "\n",
    "On the other hand, if the number of features extracted at the bottleneck is too large, the autoencoder may overfit to the training data and fail to generalize well to new, unseen data. Additionally, a larger bottleneck can increase the computational complexity of the model, making it more difficult and expensive to train.\n",
    "\n",
    "Therefore, finding the optimal number of features to extract at the bottleneck requires balancing the need for a compact representation of the input data with the requirement for accurate reconstruction and good generalization performance. This is often achieved through experimentation and fine-tuning of the autoencoder architecture and hyperparameters."
   ]
  },
  {
   "cell_type": "markdown",
   "metadata": {},
   "source": [
    "## Task 2\n",
    "After pretraining decoder/encoder pair, train the transformer encoder to predict\n",
    "the downsampled representation of the next video frame. Remember to keep the\n",
    "pretrained weights of the convolutional encoder/decoder fixed at this stage! Experiment with different number of transformer layers of different sizes. Do these\n",
    "parameters influence the performance of the network? How far ahead can the transformer predict the sequence of frames? "
   ]
  },
  {
   "cell_type": "code",
   "execution_count": 62,
   "metadata": {},
   "outputs": [
    {
     "name": "stdout",
     "output_type": "stream",
     "text": [
      "Model: \"model\"\n",
      "__________________________________________________________________________________________________\n",
      " Layer (type)                   Output Shape         Param #     Connected to                     \n",
      "==================================================================================================\n",
      " input_36 (InputLayer)          [(None, 9, 256)]     0           []                               \n",
      "                                                                                                  \n",
      " time2_vector_31 (Time2Vector)  (None, 9, 2)         36          ['input_36[0][0]']               \n",
      "                                                                                                  \n",
      " concatenate_31 (Concatenate)   (None, 9, 258)       0           ['input_36[0][0]',               \n",
      "                                                                  'time2_vector_31[0][0]']        \n",
      "                                                                                                  \n",
      " transformer_encoder_63 (Transf  (None, 9, 258)      1723660     ['concatenate_31[0][0]',         \n",
      " ormerEncoder)                                                    'concatenate_31[0][0]',         \n",
      "                                                                  'concatenate_31[0][0]']         \n",
      "                                                                                                  \n",
      " transformer_encoder_64 (Transf  (None, 9, 258)      1723660     ['transformer_encoder_63[0][0]', \n",
      " ormerEncoder)                                                    'transformer_encoder_63[0][0]', \n",
      "                                                                  'transformer_encoder_63[0][0]'] \n",
      "                                                                                                  \n",
      " global_max_pooling1d_5 (Global  (None, 258)         0           ['transformer_encoder_64[0][0]'] \n",
      " MaxPooling1D)                                                                                    \n",
      "                                                                                                  \n",
      " dropout_4 (Dropout)            (None, 258)          0           ['global_max_pooling1d_5[0][0]'] \n",
      "                                                                                                  \n",
      " dense_15 (Dense)               (None, 128)          33152       ['dropout_4[0][0]']              \n",
      "                                                                                                  \n",
      " dropout_5 (Dropout)            (None, 128)          0           ['dense_15[0][0]']               \n",
      "                                                                                                  \n",
      " dense_16 (Dense)               (None, 256)          33024       ['dropout_5[0][0]']              \n",
      "                                                                                                  \n",
      " leaky_re_lu_2 (LeakyReLU)      (None, 256)          0           ['dense_16[0][0]']               \n",
      "                                                                                                  \n",
      "==================================================================================================\n",
      "Total params: 3,513,532\n",
      "Trainable params: 3,513,532\n",
      "Non-trainable params: 0\n",
      "__________________________________________________________________________________________________\n"
     ]
    }
   ],
   "source": [
    "Conv2D=keras.layers.Conv2D\n",
    "MaxPool2D=keras.layers.MaxPooling2D\n",
    "Dense=keras.layers.Dense\n",
    "Flatten=keras.layers.Flatten\n",
    "Reshape=keras.layers.Reshape\n",
    "Input = keras.layers.Input\n",
    "Sequential = keras.Sequential\n",
    "Conv2DTranspose = keras.layers.Conv2DTranspose\n",
    "Model = tf.keras.Model\n",
    "GlobalMaxPooling1D = keras.layers.GlobalMaxPooling1D\n",
    "\n",
    "# Load the autoencoder you want\n",
    "#autoencoder = tf.keras.models.load_model('autoencoder_bottleneck_size=1600')\n",
    "autoencoder = tf.keras.models.load_model('autoencoder_bottleneck_size=256')\n",
    "#autoencoder = tf.keras.models.load_model('autoencoder_bottleneck_size=128')\n",
    "#autoencoder = tf.keras.models.load_model('autoencoder_bottleneck_size=64')\n",
    "#autoencoder = tf.keras.models.load_model('autoencoder_bottleneck_size=16')\n",
    "\n",
    "#Keep weights the same\n",
    "autoencoder.trainable = False\n",
    "autoencoder.encoder.trainable = False\n",
    "autoencoder.decoder.trainable = False\n",
    "\n",
    "# Parameters\n",
    "bottleneck_size = 256\n",
    "latent_dim = bottleneck_size\n",
    "d_k = 256\n",
    "d_v = 256\n",
    "heads = 6\n",
    "d_ff = 256\n",
    "seq_len = 9\n",
    "\n",
    "\n",
    "def transformer_model(bottleneck_size):\n",
    "    d_f = bottleneck_size+2\n",
    "    time_embd = Time2Vector(seq_len)\n",
    "    attentionL1 = TransformerEncoder(d_k, d_v, heads, d_f, d_ff)\n",
    "    attentionL2 = TransformerEncoder(d_k, d_v, heads, d_f, d_ff)\n",
    "    \n",
    "    input_sequence = Input(shape=(seq_len, bottleneck_size))\n",
    "    x = time_embd(input_sequence)\n",
    "    x = tf.keras.layers.Concatenate(axis=-1)([input_sequence, x])\n",
    "    x = attentionL1((x, x, x))\n",
    "    x = attentionL2((x, x, x))\n",
    "    x = GlobalMaxPooling1D()(x)\n",
    "    x = Dropout(0.1)(x)\n",
    "    x = Dense(128, activation='relu')(x)\n",
    "    x = Dropout(0.1)(x)\n",
    "    x = Dense(latent_dim, activation='linear')(x)\n",
    "    out = tf.keras.layers.LeakyReLU()(x)\n",
    "    \n",
    "    model = Model(inputs=input_sequence, outputs=out)\n",
    "    model.compile(optimizer='adam', loss=losses.MeanSquaredError())\n",
    "    return model\n",
    "\n",
    "model = transformer_model(bottleneck_size)\n",
    "model.summary()"
   ]
  },
  {
   "cell_type": "code",
   "execution_count": null,
   "metadata": {},
   "outputs": [],
   "source": []
  }
 ],
 "metadata": {
  "kernelspec": {
   "display_name": "hwc_venv",
   "language": "python",
   "name": "hwc_venv"
  },
  "language_info": {
   "codemirror_mode": {
    "name": "ipython",
    "version": 3
   },
   "file_extension": ".py",
   "mimetype": "text/x-python",
   "name": "python",
   "nbconvert_exporter": "python",
   "pygments_lexer": "ipython3",
   "version": "3.9.13"
  }
 },
 "nbformat": 4,
 "nbformat_minor": 2
}
